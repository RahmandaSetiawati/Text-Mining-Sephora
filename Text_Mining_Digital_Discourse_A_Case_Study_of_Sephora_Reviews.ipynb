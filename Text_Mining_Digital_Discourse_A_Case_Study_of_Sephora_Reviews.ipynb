{
  "nbformat": 4,
  "nbformat_minor": 0,
  "metadata": {
    "colab": {
      "provenance": []
    },
    "kernelspec": {
      "name": "python3",
      "display_name": "Python 3"
    },
    "language_info": {
      "name": "python"
    }
  },
  "cells": [
    {
      "cell_type": "markdown",
      "source": [
        "# **I. Data Collection**"
      ],
      "metadata": {
        "id": "-wjgcRCldkgq"
      }
    },
    {
      "cell_type": "code",
      "execution_count": 16,
      "metadata": {
        "id": "09JGF5z7GwAl"
      },
      "outputs": [],
      "source": [
        "import pandas as pd\n",
        "\n",
        "# Load the dataset you uploaded\n",
        "file_name = 'reviews.csv'\n",
        "df = pd.read_csv(file_name)"
      ]
    },
    {
      "cell_type": "code",
      "source": [
        "# --- The column with the review is named 'review_text' ---\n",
        "# We will select it and rename it to 'Text' for consistency.\n",
        "df_selected = df[['review_text']].copy()\n",
        "df_selected.rename(columns={'review_text': 'Text'}, inplace=True)"
      ],
      "metadata": {
        "id": "EADDvFRORBr2"
      },
      "execution_count": 17,
      "outputs": []
    },
    {
      "cell_type": "code",
      "source": [
        "# Take the first 1000 reviews and remove any empty ones\n",
        "df_final = df_selected.head(1000)\n",
        "df_final.dropna(subset=['Text'], inplace=True)\n",
        "\n",
        "print(f\"Successfully loaded and prepared {len(df_final)} Sephora reviews.\")"
      ],
      "metadata": {
        "colab": {
          "base_uri": "https://localhost:8080/"
        },
        "id": "7Mdx7nwpRFaT",
        "outputId": "e0627af5-cc08-4c37-ce3c-6e93ab0dac4e"
      },
      "execution_count": 19,
      "outputs": [
        {
          "output_type": "stream",
          "name": "stdout",
          "text": [
            "Successfully loaded and prepared 999 Sephora reviews.\n"
          ]
        },
        {
          "output_type": "stream",
          "name": "stderr",
          "text": [
            "<ipython-input-19-1364959943>:3: SettingWithCopyWarning: \n",
            "A value is trying to be set on a copy of a slice from a DataFrame\n",
            "\n",
            "See the caveats in the documentation: https://pandas.pydata.org/pandas-docs/stable/user_guide/indexing.html#returning-a-view-versus-a-copy\n",
            "  df_final.dropna(subset=['Text'], inplace=True)\n"
          ]
        }
      ]
    },
    {
      "cell_type": "code",
      "source": [
        "# Display the first 5 entries for a quick check\n",
        "print(\"\\nFirst 5 prepared text entries:\")\n",
        "print(df_final.head())"
      ],
      "metadata": {
        "colab": {
          "base_uri": "https://localhost:8080/"
        },
        "id": "ClWzTKAiRM1S",
        "outputId": "8b37d0c1-a166-46a2-f7e4-6030adf54492"
      },
      "execution_count": 20,
      "outputs": [
        {
          "output_type": "stream",
          "name": "stdout",
          "text": [
            "\n",
            "First 5 prepared text entries:\n",
            "                                                Text\n",
            "0  I absolutely L-O-V-E this oil. I have acne pro...\n",
            "1  I gave this 3 stars because it give me tiny li...\n",
            "2  Works well as soon as I wash my face and pat d...\n",
            "3  this oil helped with hydration and breakouts, ...\n",
            "4  This is my first product review ever so that s...\n"
          ]
        }
      ]
    },
    {
      "cell_type": "code",
      "source": [
        "# Get 10 sample raw text entries for your report\n",
        "print(\"\\n10 Sample Raw Text Entries for Your Report:\")\n",
        "print(df_final['Text'].head(10).to_list())"
      ],
      "metadata": {
        "colab": {
          "base_uri": "https://localhost:8080/"
        },
        "id": "xU8b68IcRROp",
        "outputId": "8c1b465f-4c2d-498a-b0ea-95dce32882ef"
      },
      "execution_count": 21,
      "outputs": [
        {
          "output_type": "stream",
          "name": "stdout",
          "text": [
            "\n",
            "10 Sample Raw Text Entries for Your Report:\n",
            "['I absolutely L-O-V-E this oil. I have acne prone skin in my 30’s, and use this on top of my evening cream as a final moisture lock-in. Its smell is a spa-grade aromatherapy treatment that instantly relaxes me. I’ve had facial oil in my routine, previously Drunk Elephant, for years and swear by its wrinkle prevention qualities. Oily/acne prone skin can become dry out from the acids/treatments we use, and it’s important to put the moisture back in after its taken off to prevent skin from over-compensating throughout the day. The formula in Lotus does just that while keeping breakouts and pesky wrinkles away. The scent of this oil won me over and I look forward to it every evening as a final pampering. It doesn’t break me out, my skin glows after application, and one bottle lasts me at least 6 months. Just a few drops is all you need to cover the face, neck and décolleté.  If you’re on the fence, treat yourself and do it!', 'I gave this 3 stars because it give me tiny little white heads from first use ima give it few more days before making a final decision on keeping or returning it, all thought it did keep my oily face under control and I was not as oily but it feels though as it trapped the oil in my pores?!', 'Works well as soon as I wash my face and pat dry it. Smells amazing too.', 'this oil helped with hydration and breakouts, I love this!!', 'This is my first product review ever so that should tell you how much I love this. I actually bought this in my low 20s but I was drinking, eating terrible foods, and using strong/aggressive products in college so one oil can only do so much. Years later, I now understand I have sensitive, acne-prone skin and have a great skincare routine. I decided to give this a try again and oh my gosh my maskne disappeared. I’m not even joking I’ve been using this product for a month and I haven’t had one pimple. For me my acne comes from closed comedones becoming inflamed and thus turning into pimples but since using this it just becomes a blackhead that easily comes out. No mask cysts! And when I do extract my blackheads I rub this oil afterwards and the next day my skin is back to normal, when usually I would have red/aggravated skin for a couple of days. Please try this out if you have to wear a mask for the entire day due to work and you have maskne!', 'I have  been using this for 5  years now and I have no complaints. It keeps my hormonal skin glowing and blemish free! Highly recommend if you have normal skin that occasionally  reacts to hormonal changes . I only use when needed- so 1 bottle lasts months!', 'I first used the Lotus oil in 2014 or so, however, during a move it unfortunately broke (blame my careless ex-bf then) and I was also broke and never bought a new one to replace it.  Fast-forward to me being financially stable and remembering how much of a gem this Clarins item was... I FINALLY re-ordered again.  Haha.  The scent isn’t exactly as I remembered, but definitely not bothersome.  I will continue to use with hope my glow from this product will return xo', 'Super short back story- when I was in my teens, my mother worked for Clarins and of course got all kinds of stuff deeply discounted. In my 20s she no longer worked there and I realized that I could not afford all of the Clarins stuff I had been buying with her discount and had to pick and choose. Back then the Lotus Oil was the only thing I continued to buy at full price. Over a decade later, I’m still buying the Lotus Oil. I have combination acne prone skin. The Lotus Oil feels so good- heavy but in a nice way. It keeps my break outs to a minimum and makes my face feel smooth and hydrated. I love this stuff and will always re-purchase!', 'first oil that I’ve tried and I really like it. I was hesitant about using an oil due to sensitive skin but I decided to give it a try since there were good ratings.', 'This is the best treatment oil I’ve ever had! It’s not greasy and it has very light texture. It can be mixed with moisturizer or wear it alone, either way it feels comfortable and light on the skin. After weeks, my pores are smaller than before.']\n"
          ]
        }
      ]
    },
    {
      "cell_type": "markdown",
      "source": [
        "# **II. Text Processing**"
      ],
      "metadata": {
        "id": "Y38dNvX-dyqZ"
      }
    },
    {
      "cell_type": "code",
      "source": [
        "import re\n",
        "import nltk\n",
        "import pandas as pd\n",
        "from nltk.tokenize import word_tokenize\n",
        "from nltk.corpus import stopwords\n",
        "from nltk.stem import WordNetLemmatizer\n",
        "from sklearn.feature_extraction.text import TfidfVectorizer\n",
        "import matplotlib.pyplot as plt\n",
        "import seaborn as sns"
      ],
      "metadata": {
        "id": "GKPcvyFYWq0x"
      },
      "execution_count": 35,
      "outputs": []
    },
    {
      "cell_type": "code",
      "source": [
        "# --- Part 1: Preprocessing ---\n",
        "\n",
        "# Download all necessary NLTK data models\n",
        "nltk.download('stopwords')\n",
        "nltk.download('punkt')\n",
        "nltk.download('wordnet')\n",
        "nltk.download('punkt_tab')\n",
        "\n",
        "# Initialize lemmatizer and stopword list\n",
        "lemmatizer = WordNetLemmatizer()\n",
        "stop_words = set(stopwords.words('english'))\n",
        "\n",
        "def preprocess_text(text):\n",
        "    text = str(text)\n",
        "    text = re.sub(r'http\\S+|@\\w+|#\\w+', '', text)\n",
        "    text = re.sub(r'[^a-zA-Z\\s]', '', text)\n",
        "    text = text.lower()\n",
        "    tokens = word_tokenize(text)\n",
        "    processed_tokens = [lemmatizer.lemmatize(word) for word in tokens if word not in stop_words]\n",
        "    return \" \".join(processed_tokens)\n",
        "\n",
        "# Apply the function to create the 'Processed_Text' column\n",
        "df_final['Processed_Text'] = df_final['Text'].apply(preprocess_text)\n",
        "print(\"Text preprocessing complete.\")"
      ],
      "metadata": {
        "colab": {
          "base_uri": "https://localhost:8080/"
        },
        "id": "uHFJIrThdbBz",
        "outputId": "961f5f92-6df9-4d11-9d63-025eb838bec0"
      },
      "execution_count": 36,
      "outputs": [
        {
          "output_type": "stream",
          "name": "stderr",
          "text": [
            "[nltk_data] Downloading package stopwords to /root/nltk_data...\n",
            "[nltk_data]   Package stopwords is already up-to-date!\n",
            "[nltk_data] Downloading package punkt to /root/nltk_data...\n",
            "[nltk_data]   Package punkt is already up-to-date!\n",
            "[nltk_data] Downloading package wordnet to /root/nltk_data...\n",
            "[nltk_data]   Package wordnet is already up-to-date!\n",
            "[nltk_data] Downloading package punkt_tab to /root/nltk_data...\n",
            "[nltk_data]   Package punkt_tab is already up-to-date!\n"
          ]
        },
        {
          "output_type": "stream",
          "name": "stdout",
          "text": [
            "Text preprocessing complete.\n"
          ]
        },
        {
          "output_type": "stream",
          "name": "stderr",
          "text": [
            "<ipython-input-36-51969214>:23: SettingWithCopyWarning: \n",
            "A value is trying to be set on a copy of a slice from a DataFrame.\n",
            "Try using .loc[row_indexer,col_indexer] = value instead\n",
            "\n",
            "See the caveats in the documentation: https://pandas.pydata.org/pandas-docs/stable/user_guide/indexing.html#returning-a-view-versus-a-copy\n",
            "  df_final['Processed_Text'] = df_final['Text'].apply(preprocess_text)\n"
          ]
        }
      ]
    },
    {
      "cell_type": "markdown",
      "source": [
        "# **III. Feature Extraction**"
      ],
      "metadata": {
        "id": "iw888KxyemUe"
      }
    },
    {
      "cell_type": "code",
      "source": [
        "# --- Part 2: Feature Extraction ---\n",
        "\n",
        "print(\"Starting feature extraction...\")\n",
        "# Initialize the TF-IDF Vectorizer\n",
        "vectorizer = TfidfVectorizer(max_features=1000)\n",
        "\n",
        "# Fit and transform the processed text\n",
        "tfidf_matrix = vectorizer.fit_transform(df_final['Processed_Text'])\n",
        "\n",
        "# Get feature names and sum their scores\n",
        "feature_names = vectorizer.get_feature_names_out()\n",
        "total_tfidf_scores = tfidf_matrix.sum(axis=0).tolist()[0]\n",
        "\n",
        "# Create a DataFrame of words and their scores\n",
        "tfidf_df = pd.DataFrame({'word': feature_names, 'weight': total_tfidf_scores})\n",
        "\n",
        "# Get the top 20 words\n",
        "top_20_words = tfidf_df.sort_values(by='weight', ascending=False).head(20)\n",
        "\n",
        "# Generate the Bar Chart Visualization\n",
        "plt.figure(figsize=(12, 8))\n",
        "sns.barplot(x='weight', y='word', data=top_20_words, palette='viridis')\n",
        "plt.title('Top 20 Most Weighted Words by TF-IDF')\n",
        "plt.xlabel('Total TF-IDF Weight')\n",
        "plt.ylabel('Words')\n",
        "plt.show()\n",
        "\n",
        "print(\"Feature extraction and visualization complete.\")"
      ],
      "metadata": {
        "colab": {
          "base_uri": "https://localhost:8080/",
          "height": 860
        },
        "id": "wddLbKXhdez0",
        "outputId": "a604e875-67d8-483e-b1f7-433a2aad56ba"
      },
      "execution_count": 37,
      "outputs": [
        {
          "output_type": "stream",
          "name": "stdout",
          "text": [
            "Starting feature extraction...\n"
          ]
        },
        {
          "output_type": "stream",
          "name": "stderr",
          "text": [
            "<ipython-input-37-1687677681>:22: FutureWarning: \n",
            "\n",
            "Passing `palette` without assigning `hue` is deprecated and will be removed in v0.14.0. Assign the `y` variable to `hue` and set `legend=False` for the same effect.\n",
            "\n",
            "  sns.barplot(x='weight', y='word', data=top_20_words, palette='viridis')\n"
          ]
        },
        {
          "output_type": "display_data",
          "data": {
            "text/plain": [
              "<Figure size 1200x800 with 1 Axes>"
            ],
            "image/png": "[encoded data removed]"
          },
          "metadata": {}
        },
        {
          "output_type": "stream",
          "name": "stdout",
          "text": [
            "Feature extraction and visualization complete.\n"
          ]
        }
      ]
    },
    {
      "cell_type": "markdown",
      "source": [
        "# **IV. Modelling**"
      ],
      "metadata": {
        "id": "pd9mV5pFetKA"
      }
    },
    {
      "cell_type": "code",
      "source": [
        "# Install the VADER package\n",
        "!pip install vaderSentiment\n",
        "\n",
        "import pandas as pd\n",
        "from vaderSentiment.vaderSentiment import SentimentIntensityAnalyzer\n",
        "import matplotlib.pyplot as plt\n",
        "import seaborn as sns\n",
        "\n",
        "# Assuming 'df_final' is your DataFrame with the raw review 'Text' column.\n",
        "\n",
        "# Initialize VADER\n",
        "analyzer = SentimentIntensityAnalyzer()\n",
        "\n",
        "def get_vader_sentiment(text):\n",
        "    \"\"\"\n",
        "    Analyzes text using VADER and returns 'Positive', 'Negative',\n",
        "    or 'Neutral' based on the compound score.\n",
        "    \"\"\"\n",
        "    scores = analyzer.polarity_scores(str(text))\n",
        "    compound_score = scores['compound']\n",
        "\n",
        "    if compound_score >= 0.05:\n",
        "        return 'Positive'\n",
        "    elif compound_score <= -0.05:\n",
        "        return 'Negative'\n",
        "    else:\n",
        "        return 'Neutral'\n",
        "\n",
        "# Apply the function to the raw text column to get sentiment\n",
        "df_final['Sentiment'] = df_final['Text'].apply(get_vader_sentiment)\n",
        "\n",
        "# --- Show Sentiment Distribution ---\n",
        "print(\"Sentiment Distribution:\")\n",
        "sentiment_counts = df_final['Sentiment'].value_counts()\n",
        "print(sentiment_counts)\n",
        "print(\"\\n\")\n",
        "\n",
        "\n",
        "# --- Visualize the Results ---\n",
        "plt.figure(figsize=(8, 6))\n",
        "sns.barplot(x=sentiment_counts.index, y=sentiment_counts.values, palette='viridis', order=['Positive', 'Neutral', 'Negative'])\n",
        "plt.title('Sentiment Distribution of Product Reviews')\n",
        "plt.xlabel('Sentiment Category')\n",
        "plt.ylabel('Number of Reviews')\n",
        "plt.show()"
      ],
      "metadata": {
        "colab": {
          "base_uri": "https://localhost:8080/",
          "height": 1000
        },
        "id": "i3Km0wE4XVBH",
        "outputId": "705bda19-18b1-4a0e-bc02-cf3409309fa4"
      },
      "execution_count": 34,
      "outputs": [
        {
          "output_type": "stream",
          "name": "stdout",
          "text": [
            "Collecting vaderSentiment\n",
            "  Downloading vaderSentiment-3.3.2-py2.py3-none-any.whl.metadata (572 bytes)\n",
            "Requirement already satisfied: requests in /usr/local/lib/python3.11/dist-packages (from vaderSentiment) (2.32.3)\n",
            "Requirement already satisfied: charset-normalizer<4,>=2 in /usr/local/lib/python3.11/dist-packages (from requests->vaderSentiment) (3.4.2)\n",
            "Requirement already satisfied: idna<4,>=2.5 in /usr/local/lib/python3.11/dist-packages (from requests->vaderSentiment) (3.10)\n",
            "Requirement already satisfied: urllib3<3,>=1.21.1 in /usr/local/lib/python3.11/dist-packages (from requests->vaderSentiment) (2.4.0)\n",
            "Requirement already satisfied: certifi>=2017.4.17 in /usr/local/lib/python3.11/dist-packages (from requests->vaderSentiment) (2025.4.26)\n",
            "Downloading vaderSentiment-3.3.2-py2.py3-none-any.whl (125 kB)\n",
            "\u001b[2K   \u001b[90m━━━━━━━━━━━━━━━━━━━━━━━━━━━━━━━━━━━━━━━━\u001b[0m \u001b[32m126.0/126.0 kB\u001b[0m \u001b[31m4.3 MB/s\u001b[0m eta \u001b[36m0:00:00\u001b[0m\n",
            "\u001b[?25hInstalling collected packages: vaderSentiment\n",
            "Successfully installed vaderSentiment-3.3.2\n",
            "Sentiment Distribution:\n",
            "Sentiment\n",
            "Positive    876\n",
            "Negative     93\n",
            "Neutral      30\n",
            "Name: count, dtype: int64\n",
            "\n",
            "\n"
          ]
        },
        {
          "output_type": "stream",
          "name": "stderr",
          "text": [
            "<ipython-input-34-3736606472>:30: SettingWithCopyWarning: \n",
            "A value is trying to be set on a copy of a slice from a DataFrame.\n",
            "Try using .loc[row_indexer,col_indexer] = value instead\n",
            "\n",
            "See the caveats in the documentation: https://pandas.pydata.org/pandas-docs/stable/user_guide/indexing.html#returning-a-view-versus-a-copy\n",
            "  df_final['Sentiment'] = df_final['Text'].apply(get_vader_sentiment)\n",
            "<ipython-input-34-3736606472>:41: FutureWarning: \n",
            "\n",
            "Passing `palette` without assigning `hue` is deprecated and will be removed in v0.14.0. Assign the `x` variable to `hue` and set `legend=False` for the same effect.\n",
            "\n",
            "  sns.barplot(x=sentiment_counts.index, y=sentiment_counts.values, palette='viridis', order=['Positive', 'Neutral', 'Negative'])\n"
          ]
        },
        {
          "output_type": "display_data",
          "data": {
            "text/plain": [
              "<Figure size 800x600 with 1 Axes>"
            ],
            "image/png": "[encoded data removed]"
          },
          "metadata": {}
        }
      ]
    }
  ]
}